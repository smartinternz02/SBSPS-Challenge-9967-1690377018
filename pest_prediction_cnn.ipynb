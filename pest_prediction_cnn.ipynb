{
 "cells": [
  {
   "cell_type": "code",
   "execution_count": 7,
   "metadata": {
    "execution": {
     "iopub.execute_input": "2023-08-30T04:21:30.419708Z",
     "iopub.status.busy": "2023-08-30T04:21:30.419177Z",
     "iopub.status.idle": "2023-08-30T04:21:30.440048Z",
     "shell.execute_reply": "2023-08-30T04:21:30.439019Z",
     "shell.execute_reply.started": "2023-08-30T04:21:30.419650Z"
    }
   },
   "outputs": [],
   "source": [
    "import warnings\n",
    "warnings.filterwarnings(\"ignore\")\n",
    "import tensorflow as tf\n",
    "import matplotlib.pyplot as plt\n",
    "tf.compat.v1.set_random_seed(0)\n",
    "from tensorflow import keras\n",
    "import numpy as np\n",
    "np.random.seed(0)\n",
    "from tensorflow.keras.utils import image_dataset_from_directory\n",
    "from tensorflow.keras.layers.experimental.preprocessing import Rescaling\n"
   ]
  },
  {
   "cell_type": "code",
   "execution_count": 8,
   "metadata": {
    "execution": {
     "iopub.execute_input": "2023-08-30T04:21:30.443913Z",
     "iopub.status.busy": "2023-08-30T04:21:30.442870Z",
     "iopub.status.idle": "2023-08-30T04:22:16.132498Z",
     "shell.execute_reply": "2023-08-30T04:22:16.131551Z",
     "shell.execute_reply.started": "2023-08-30T04:21:30.443878Z"
    }
   },
   "outputs": [
    {
     "name": "stdout",
     "output_type": "stream",
     "text": [
      "Found 70295 files belonging to 38 classes.\n",
      "Found 17572 files belonging to 38 classes.\n"
     ]
    }
   ],
   "source": [
    "train_gen = image_dataset_from_directory(directory=\"C:/Downloads/new-plant-diseases-dataset/New Plant Diseases Dataset(Augmented)/New Plant Diseases Dataset(Augmented)/train\",\n",
    "                                         image_size=(256, 256))\n",
    "test_gen = image_dataset_from_directory(directory=\"C:/Downloads/new-plant-diseases-dataset/New Plant Diseases Dataset(Augmented)/New Plant Diseases Dataset(Augmented)/valid\",\n",
    "                                        image_size=(256, 256))\n",
    "\n",
    "rescale = Rescaling(scale=1.0/255)\n",
    "train_gen = train_gen.map(lambda image,label:(rescale(image),label))\n",
    "test_gen  = test_gen.map(lambda image,label:(rescale(image),label))"
   ]
  },
  {
   "cell_type": "code",
   "execution_count": 9,
   "metadata": {
    "execution": {
     "iopub.execute_input": "2023-08-30T04:22:16.134266Z",
     "iopub.status.busy": "2023-08-30T04:22:16.133897Z",
     "iopub.status.idle": "2023-08-30T04:22:16.370576Z",
     "shell.execute_reply": "2023-08-30T04:22:16.369823Z",
     "shell.execute_reply.started": "2023-08-30T04:22:16.134233Z"
    }
   },
   "outputs": [
    {
     "name": "stdout",
     "output_type": "stream",
     "text": [
      "Model: \"sequential_1\"\n",
      "_________________________________________________________________\n",
      " Layer (type)                Output Shape              Param #   \n",
      "=================================================================\n",
      " conv2d_10 (Conv2D)          (None, 256, 256, 32)      896       \n",
      "                                                                 \n",
      " conv2d_11 (Conv2D)          (None, 256, 256, 32)      9248      \n",
      "                                                                 \n",
      " max_pooling2d_3 (MaxPooling  (None, 85, 85, 32)       0         \n",
      " 2D)                                                             \n",
      "                                                                 \n",
      " conv2d_12 (Conv2D)          (None, 85, 85, 64)        18496     \n",
      "                                                                 \n",
      " conv2d_13 (Conv2D)          (None, 85, 85, 64)        36928     \n",
      "                                                                 \n",
      " max_pooling2d_4 (MaxPooling  (None, 28, 28, 64)       0         \n",
      " 2D)                                                             \n",
      "                                                                 \n",
      " conv2d_14 (Conv2D)          (None, 28, 28, 128)       73856     \n",
      "                                                                 \n",
      " conv2d_15 (Conv2D)          (None, 28, 28, 128)       147584    \n",
      "                                                                 \n",
      " max_pooling2d_5 (MaxPooling  (None, 9, 9, 128)        0         \n",
      " 2D)                                                             \n",
      "                                                                 \n",
      " conv2d_16 (Conv2D)          (None, 9, 9, 256)         295168    \n",
      "                                                                 \n",
      " conv2d_17 (Conv2D)          (None, 9, 9, 256)         590080    \n",
      "                                                                 \n",
      " conv2d_18 (Conv2D)          (None, 9, 9, 512)         3277312   \n",
      "                                                                 \n",
      " conv2d_19 (Conv2D)          (None, 9, 9, 512)         6554112   \n",
      "                                                                 \n",
      " flatten_1 (Flatten)         (None, 41472)             0         \n",
      "                                                                 \n",
      " dense_2 (Dense)             (None, 1568)              65029664  \n",
      "                                                                 \n",
      " dropout_1 (Dropout)         (None, 1568)              0         \n",
      "                                                                 \n",
      " dense_3 (Dense)             (None, 38)                59622     \n",
      "                                                                 \n",
      "=================================================================\n",
      "Total params: 76,092,966\n",
      "Trainable params: 76,092,966\n",
      "Non-trainable params: 0\n",
      "_________________________________________________________________\n"
     ]
    }
   ],
   "source": [
    "model = keras.Sequential()\n",
    "\n",
    "model.add(keras.layers.Conv2D(32,(3,3),activation=\"relu\",padding=\"same\",input_shape=(256,256,3)))\n",
    "model.add(keras.layers.Conv2D(32,(3,3),activation=\"relu\",padding=\"same\"))\n",
    "model.add(keras.layers.MaxPooling2D(3,3))\n",
    "\n",
    "model.add(keras.layers.Conv2D(64,(3,3),activation=\"relu\",padding=\"same\"))\n",
    "model.add(keras.layers.Conv2D(64,(3,3),activation=\"relu\",padding=\"same\"))\n",
    "model.add(keras.layers.MaxPooling2D(3,3))\n",
    "\n",
    "model.add(keras.layers.Conv2D(128,(3,3),activation=\"relu\",padding=\"same\"))\n",
    "model.add(keras.layers.Conv2D(128,(3,3),activation=\"relu\",padding=\"same\"))\n",
    "model.add(keras.layers.MaxPooling2D(3,3))\n",
    "\n",
    "model.add(keras.layers.Conv2D(256,(3,3),activation=\"relu\",padding=\"same\"))\n",
    "model.add(keras.layers.Conv2D(256,(3,3),activation=\"relu\",padding=\"same\"))\n",
    "\n",
    "model.add(keras.layers.Conv2D(512,(5,5),activation=\"relu\",padding=\"same\"))\n",
    "model.add(keras.layers.Conv2D(512,(5,5),activation=\"relu\",padding=\"same\"))\n",
    "\n",
    "model.add(keras.layers.Flatten())\n",
    "\n",
    "model.add(keras.layers.Dense(1568,activation=\"relu\"))\n",
    "model.add(keras.layers.Dropout(0.5))\n",
    "\n",
    "model.add(keras.layers.Dense(38,activation=\"softmax\"))\n",
    "\n",
    "opt = keras.optimizers.Adam(learning_rate=0.0001)\n",
    "model.compile(optimizer=opt,loss=\"sparse_categorical_crossentropy\",metrics=['accuracy'])\n",
    "model.summary()"
   ]
  },
  {
   "cell_type": "code",
   "execution_count": 10,
   "metadata": {
    "execution": {
     "iopub.execute_input": "2023-08-30T04:22:16.372005Z",
     "iopub.status.busy": "2023-08-30T04:22:16.371620Z",
     "iopub.status.idle": "2023-08-30T04:53:36.175978Z",
     "shell.execute_reply": "2023-08-30T04:53:36.174758Z",
     "shell.execute_reply.started": "2023-08-30T04:22:16.371955Z"
    }
   },
   "outputs": [
    {
     "name": "stdout",
     "output_type": "stream",
     "text": [
      "Epoch 1/5\n",
      "2197/2197 [==============================] - 400s 180ms/step - loss: 1.5759 - accuracy: 0.5405 - val_loss: 0.5929 - val_accuracy: 0.8136\n",
      "Epoch 2/5\n",
      "2197/2197 [==============================] - 338s 154ms/step - loss: 0.4611 - accuracy: 0.8524 - val_loss: 0.3218 - val_accuracy: 0.8903\n",
      "Epoch 3/5\n",
      "2197/2197 [==============================] - 355s 162ms/step - loss: 0.2603 - accuracy: 0.9149 - val_loss: 0.2231 - val_accuracy: 0.9284\n",
      "Epoch 4/5\n",
      "2197/2197 [==============================] - 356s 162ms/step - loss: 0.1771 - accuracy: 0.9410 - val_loss: 0.1942 - val_accuracy: 0.9374\n",
      "Epoch 5/5\n",
      "2197/2197 [==============================] - 360s 164ms/step - loss: 0.1285 - accuracy: 0.9568 - val_loss: 0.1649 - val_accuracy: 0.9491\n"
     ]
    }
   ],
   "source": [
    "ep = 5\n",
    "history = model.fit_generator(train_gen,\n",
    "          validation_data=test_gen,\n",
    "          epochs = ep)"
   ]
  },
  {
   "cell_type": "code",
   "execution_count": 11,
   "metadata": {
    "execution": {
     "iopub.execute_input": "2023-08-30T04:53:36.181216Z",
     "iopub.status.busy": "2023-08-30T04:53:36.180450Z",
     "iopub.status.idle": "2023-08-30T04:53:37.995990Z",
     "shell.execute_reply": "2023-08-30T04:53:37.989194Z",
     "shell.execute_reply.started": "2023-08-30T04:53:36.181179Z"
    }
   },
   "outputs": [],
   "source": [
    "import h5py\n",
    "model.save('cnn.h5')"
   ]
  },
  {
   "cell_type": "code",
   "execution_count": 12,
   "metadata": {
    "execution": {
     "iopub.execute_input": "2023-08-30T04:53:37.998740Z",
     "iopub.status.busy": "2023-08-30T04:53:37.997928Z",
     "iopub.status.idle": "2023-08-30T04:53:38.004615Z",
     "shell.execute_reply": "2023-08-30T04:53:38.003617Z",
     "shell.execute_reply.started": "2023-08-30T04:53:37.998682Z"
    }
   },
   "outputs": [
    {
     "name": "stdout",
     "output_type": "stream",
     "text": [
      "dict_keys(['loss', 'accuracy', 'val_loss', 'val_accuracy'])\n"
     ]
    }
   ],
   "source": [
    "print(history.history.keys())"
   ]
  },
  {
   "cell_type": "code",
   "execution_count": 13,
   "metadata": {
    "execution": {
     "iopub.execute_input": "2023-08-30T04:53:38.006600Z",
     "iopub.status.busy": "2023-08-30T04:53:38.005942Z",
     "iopub.status.idle": "2023-08-30T04:53:38.383564Z",
     "shell.execute_reply": "2023-08-30T04:53:38.382651Z",
     "shell.execute_reply.started": "2023-08-30T04:53:38.006558Z"
    }
   },
   "outputs": [
    {
     "data": {
      "image/png": "[encoded data removed]",
      "text/plain": [
       "<Figure size 640x480 with 1 Axes>"
      ]
     },
     "metadata": {},
     "output_type": "display_data"
    }
   ],
   "source": [
    "# summarize history for accuracy\n",
    "plt.plot(history.history['accuracy'])\n",
    "plt.plot(history.history['val_accuracy'])\n",
    "plt.title('model accuracy')\n",
    "plt.ylabel('accuracy')\n",
    "plt.xlabel('epoch')\n",
    "plt.legend(['train', 'test'], loc='upper left')\n",
    "plt.show()\n",
    "\n"
   ]
  },
  {
   "cell_type": "code",
   "execution_count": 14,
   "metadata": {
    "execution": {
     "iopub.execute_input": "2023-08-30T04:53:38.385759Z",
     "iopub.status.busy": "2023-08-30T04:53:38.384872Z",
     "iopub.status.idle": "2023-08-30T04:53:38.710571Z",
     "shell.execute_reply": "2023-08-30T04:53:38.709644Z",
     "shell.execute_reply.started": "2023-08-30T04:53:38.385725Z"
    }
   },
   "outputs": [
    {
     "data": {
      "image/png": "[encoded data removed]",
      "text/plain": [
       "<Figure size 640x480 with 1 Axes>"
      ]
     },
     "metadata": {},
     "output_type": "display_data"
    }
   ],
   "source": [
    "# summarize history for loss\n",
    "plt.plot(history.history['loss'])\n",
    "plt.plot(history.history['val_loss'])\n",
    "plt.title('model loss')\n",
    "plt.ylabel('loss')\n",
    "plt.xlabel('epoch')\n",
    "plt.legend(['train', 'test'], loc='upper left')\n",
    "plt.show()"
   ]
  },
  {
   "cell_type": "code",
   "execution_count": 15,
   "metadata": {
    "execution": {
     "iopub.execute_input": "2023-08-30T04:53:38.712687Z",
     "iopub.status.busy": "2023-08-30T04:53:38.712059Z",
     "iopub.status.idle": "2023-08-30T04:53:43.226082Z",
     "shell.execute_reply": "2023-08-30T04:53:43.225123Z",
     "shell.execute_reply.started": "2023-08-30T04:53:38.712648Z"
    }
   },
   "outputs": [],
   "source": [
    "from keras.models import load_model\n",
    "classifier = load_model('cnn.h5')"
   ]
  },
  {
   "cell_type": "code",
   "execution_count": 16,
   "metadata": {
    "execution": {
     "iopub.execute_input": "2023-08-30T04:53:43.228662Z",
     "iopub.status.busy": "2023-08-30T04:53:43.227834Z",
     "iopub.status.idle": "2023-08-30T04:53:43.233472Z",
     "shell.execute_reply": "2023-08-30T04:53:43.232503Z",
     "shell.execute_reply.started": "2023-08-30T04:53:43.228628Z"
    }
   },
   "outputs": [],
   "source": [
    "import os"
   ]
  },
  {
   "cell_type": "code",
   "execution_count": 17,
   "metadata": {
    "execution": {
     "iopub.execute_input": "2023-08-30T04:53:43.250372Z",
     "iopub.status.busy": "2023-08-30T04:53:43.249472Z",
     "iopub.status.idle": "2023-08-30T04:53:43.986280Z",
     "shell.execute_reply": "2023-08-30T04:53:43.985246Z",
     "shell.execute_reply.started": "2023-08-30T04:53:43.250340Z"
    }
   },
   "outputs": [
    {
     "name": "stdout",
     "output_type": "stream",
     "text": [
      "1/1 [==============================] - 1s 639ms/step\n",
      "The model predicts: Apple___Cedar_apple_rust\n"
     ]
    }
   ],
   "source": [
    "from tensorflow.keras.preprocessing import image\n",
    "\n",
    "img_path = 'C:/Downloads/new-plant-diseases-dataset/test/test/AppleCedarRust3.JPG'\n",
    "img = image.load_img(img_path, target_size=(256, 256))\n",
    "img_array = image.img_to_array(img)\n",
    "img_array = np.expand_dims(img_array, axis=0)\n",
    "img_array /= 255.0\n",
    "\n",
    "predictions = classifier.predict(img_array)\n",
    "\n",
    "class_names = sorted(os.listdir('C:/Downloads/new-plant-diseases-dataset/New Plant Diseases Dataset(Augmented)/New Plant Diseases Dataset(Augmented)/train'))\n",
    "predicted_class_index = np.argmax(predictions)\n",
    "predicted_class_name = class_names[predicted_class_index]\n",
    "\n",
    "print(f\"The model predicts: {predicted_class_name}\")\n"
   ]
  }
 ],
 "metadata": {
  "kernelspec": {
   "display_name": "Python 3 (ipykernel)",
   "language": "python",
   "name": "python3"
  },
  "language_info": {
   "codemirror_mode": {
    "name": "ipython",
    "version": 3
   },
   "file_extension": ".py",
   "mimetype": "text/x-python",
   "name": "python",
   "nbconvert_exporter": "python",
   "pygments_lexer": "ipython3",
   "version": "3.9.12"
  }
 },
 "nbformat": 4,
 "nbformat_minor": 4
}
